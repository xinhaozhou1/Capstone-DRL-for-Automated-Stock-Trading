{
 "cells": [
  {
   "cell_type": "code",
   "id": "initial_id",
   "metadata": {
    "collapsed": true,
    "ExecuteTime": {
     "end_time": "2024-10-12T22:31:01.243830Z",
     "start_time": "2024-10-12T22:31:01.230912Z"
    }
   },
   "source": [
    "import pandas as pd\n",
    "import numpy as np\n",
    "import time\n",
    "import os\n",
    "\n",
    "from config.config import rebalance_window, validation_window\n",
    "from preprocessing.preprocessors import *\n",
    "from config import config\n",
    "from model.models import *"
   ],
   "outputs": [],
   "execution_count": 10
  },
  {
   "metadata": {
    "ExecuteTime": {
     "end_time": "2024-10-12T22:31:01.335807Z",
     "start_time": "2024-10-12T22:31:01.254770Z"
    }
   },
   "cell_type": "code",
   "source": [
    "df = pd.read_csv('done_data.csv')\n",
    "df.head()"
   ],
   "id": "787eae5f393b7085",
   "outputs": [
    {
     "data": {
      "text/plain": [
       "   Unnamed: 0  datadate   tic      adjcp       open       high        low  \\\n",
       "0           0  20090102  AAPL  12.964286  12.268571  13.005714  12.165714   \n",
       "1           1  20090102   AXP  19.330000  18.570000  19.520000  18.400000   \n",
       "2           2  20090102    BA  45.250000  42.800000  45.560000  42.780000   \n",
       "3           3  20090102   CAT  46.910000  44.910000  46.980000  44.710000   \n",
       "4           4  20090102  CSCO  16.960000  16.410000  17.000000  16.250000   \n",
       "\n",
       "       volume  macd    rsi        cci    adx  turbulence  \n",
       "0  26641980.0   0.0  100.0  66.666667  100.0         0.0  \n",
       "1  10955620.0   0.0  100.0  66.666667  100.0         0.0  \n",
       "2   7010171.0   0.0  100.0  66.666667  100.0         0.0  \n",
       "3   7116726.0   0.0    0.0  66.666667  100.0         0.0  \n",
       "4  40977480.0   0.0  100.0  66.666667  100.0         0.0  "
      ],
      "text/html": [
       "<div>\n",
       "<style scoped>\n",
       "    .dataframe tbody tr th:only-of-type {\n",
       "        vertical-align: middle;\n",
       "    }\n",
       "\n",
       "    .dataframe tbody tr th {\n",
       "        vertical-align: top;\n",
       "    }\n",
       "\n",
       "    .dataframe thead th {\n",
       "        text-align: right;\n",
       "    }\n",
       "</style>\n",
       "<table border=\"1\" class=\"dataframe\">\n",
       "  <thead>\n",
       "    <tr style=\"text-align: right;\">\n",
       "      <th></th>\n",
       "      <th>Unnamed: 0</th>\n",
       "      <th>datadate</th>\n",
       "      <th>tic</th>\n",
       "      <th>adjcp</th>\n",
       "      <th>open</th>\n",
       "      <th>high</th>\n",
       "      <th>low</th>\n",
       "      <th>volume</th>\n",
       "      <th>macd</th>\n",
       "      <th>rsi</th>\n",
       "      <th>cci</th>\n",
       "      <th>adx</th>\n",
       "      <th>turbulence</th>\n",
       "    </tr>\n",
       "  </thead>\n",
       "  <tbody>\n",
       "    <tr>\n",
       "      <th>0</th>\n",
       "      <td>0</td>\n",
       "      <td>20090102</td>\n",
       "      <td>AAPL</td>\n",
       "      <td>12.964286</td>\n",
       "      <td>12.268571</td>\n",
       "      <td>13.005714</td>\n",
       "      <td>12.165714</td>\n",
       "      <td>26641980.0</td>\n",
       "      <td>0.0</td>\n",
       "      <td>100.0</td>\n",
       "      <td>66.666667</td>\n",
       "      <td>100.0</td>\n",
       "      <td>0.0</td>\n",
       "    </tr>\n",
       "    <tr>\n",
       "      <th>1</th>\n",
       "      <td>1</td>\n",
       "      <td>20090102</td>\n",
       "      <td>AXP</td>\n",
       "      <td>19.330000</td>\n",
       "      <td>18.570000</td>\n",
       "      <td>19.520000</td>\n",
       "      <td>18.400000</td>\n",
       "      <td>10955620.0</td>\n",
       "      <td>0.0</td>\n",
       "      <td>100.0</td>\n",
       "      <td>66.666667</td>\n",
       "      <td>100.0</td>\n",
       "      <td>0.0</td>\n",
       "    </tr>\n",
       "    <tr>\n",
       "      <th>2</th>\n",
       "      <td>2</td>\n",
       "      <td>20090102</td>\n",
       "      <td>BA</td>\n",
       "      <td>45.250000</td>\n",
       "      <td>42.800000</td>\n",
       "      <td>45.560000</td>\n",
       "      <td>42.780000</td>\n",
       "      <td>7010171.0</td>\n",
       "      <td>0.0</td>\n",
       "      <td>100.0</td>\n",
       "      <td>66.666667</td>\n",
       "      <td>100.0</td>\n",
       "      <td>0.0</td>\n",
       "    </tr>\n",
       "    <tr>\n",
       "      <th>3</th>\n",
       "      <td>3</td>\n",
       "      <td>20090102</td>\n",
       "      <td>CAT</td>\n",
       "      <td>46.910000</td>\n",
       "      <td>44.910000</td>\n",
       "      <td>46.980000</td>\n",
       "      <td>44.710000</td>\n",
       "      <td>7116726.0</td>\n",
       "      <td>0.0</td>\n",
       "      <td>0.0</td>\n",
       "      <td>66.666667</td>\n",
       "      <td>100.0</td>\n",
       "      <td>0.0</td>\n",
       "    </tr>\n",
       "    <tr>\n",
       "      <th>4</th>\n",
       "      <td>4</td>\n",
       "      <td>20090102</td>\n",
       "      <td>CSCO</td>\n",
       "      <td>16.960000</td>\n",
       "      <td>16.410000</td>\n",
       "      <td>17.000000</td>\n",
       "      <td>16.250000</td>\n",
       "      <td>40977480.0</td>\n",
       "      <td>0.0</td>\n",
       "      <td>100.0</td>\n",
       "      <td>66.666667</td>\n",
       "      <td>100.0</td>\n",
       "      <td>0.0</td>\n",
       "    </tr>\n",
       "  </tbody>\n",
       "</table>\n",
       "</div>"
      ]
     },
     "execution_count": 11,
     "metadata": {},
     "output_type": "execute_result"
    }
   ],
   "execution_count": 11
  },
  {
   "metadata": {
    "ExecuteTime": {
     "end_time": "2024-10-12T22:31:01.413787Z",
     "start_time": "2024-10-12T22:31:01.398945Z"
    }
   },
   "cell_type": "code",
   "source": [
    "insample_turbulence = df[(df.datadate < config.init_turbulence_sample_end_date)\n",
    "                             & (df.datadate >= config.init_turbulence_sample_start_date)]\n",
    "insample_turbulence = insample_turbulence.drop_duplicates(subset=['datadate'])\n",
    "insample_turbulence_threshold = np.quantile(insample_turbulence.turbulence.values, .90)\n",
    "print(insample_turbulence_threshold)"
   ],
   "id": "3609c07573812ab4",
   "outputs": [
    {
     "name": "stdout",
     "output_type": "stream",
     "text": [
      "96.08032158358378\n"
     ]
    }
   ],
   "execution_count": 12
  },
  {
   "metadata": {},
   "cell_type": "markdown",
   "source": "### For testing purpose, we test the first iteration in the rebalancing window",
   "id": "6f6d4d90ea244071"
  },
  {
   "metadata": {
    "ExecuteTime": {
     "end_time": "2024-10-12T22:31:01.476361Z",
     "start_time": "2024-10-12T22:31:01.446526Z"
    }
   },
   "cell_type": "code",
   "source": [
    "rebalance_window, validation_window = 63, 63\n",
    "i = rebalance_window + validation_window\n",
    "\n",
    "unique_trade_date = df[(df.datadate > 20151001)&(df.datadate <= 20200707)].datadate.unique()\n",
    "end_date_index = df.index[df[\"datadate\"] == unique_trade_date[i - rebalance_window - validation_window]].to_list()[-1]\n",
    "start_date_index = end_date_index - validation_window * 30 + 1\n",
    "\n",
    "train = data_split(df, \n",
    "                   start=config.init_turbulence_sample_start_date, \n",
    "                   end=unique_trade_date[i - rebalance_window - validation_window])\n",
    "train.head()"
   ],
   "id": "e64e589db601a8fb",
   "outputs": [
    {
     "data": {
      "text/plain": [
       "   Unnamed: 0  datadate   tic      adjcp       open       high        low  \\\n",
       "0           0  20090102  AAPL  12.964286  12.268571  13.005714  12.165714   \n",
       "0           1  20090102   AXP  19.330000  18.570000  19.520000  18.400000   \n",
       "0           2  20090102    BA  45.250000  42.800000  45.560000  42.780000   \n",
       "0           3  20090102   CAT  46.910000  44.910000  46.980000  44.710000   \n",
       "0           4  20090102  CSCO  16.960000  16.410000  17.000000  16.250000   \n",
       "\n",
       "       volume  macd    rsi        cci    adx  turbulence  \n",
       "0  26641980.0   0.0  100.0  66.666667  100.0         0.0  \n",
       "0  10955620.0   0.0  100.0  66.666667  100.0         0.0  \n",
       "0   7010171.0   0.0  100.0  66.666667  100.0         0.0  \n",
       "0   7116726.0   0.0    0.0  66.666667  100.0         0.0  \n",
       "0  40977480.0   0.0  100.0  66.666667  100.0         0.0  "
      ],
      "text/html": [
       "<div>\n",
       "<style scoped>\n",
       "    .dataframe tbody tr th:only-of-type {\n",
       "        vertical-align: middle;\n",
       "    }\n",
       "\n",
       "    .dataframe tbody tr th {\n",
       "        vertical-align: top;\n",
       "    }\n",
       "\n",
       "    .dataframe thead th {\n",
       "        text-align: right;\n",
       "    }\n",
       "</style>\n",
       "<table border=\"1\" class=\"dataframe\">\n",
       "  <thead>\n",
       "    <tr style=\"text-align: right;\">\n",
       "      <th></th>\n",
       "      <th>Unnamed: 0</th>\n",
       "      <th>datadate</th>\n",
       "      <th>tic</th>\n",
       "      <th>adjcp</th>\n",
       "      <th>open</th>\n",
       "      <th>high</th>\n",
       "      <th>low</th>\n",
       "      <th>volume</th>\n",
       "      <th>macd</th>\n",
       "      <th>rsi</th>\n",
       "      <th>cci</th>\n",
       "      <th>adx</th>\n",
       "      <th>turbulence</th>\n",
       "    </tr>\n",
       "  </thead>\n",
       "  <tbody>\n",
       "    <tr>\n",
       "      <th>0</th>\n",
       "      <td>0</td>\n",
       "      <td>20090102</td>\n",
       "      <td>AAPL</td>\n",
       "      <td>12.964286</td>\n",
       "      <td>12.268571</td>\n",
       "      <td>13.005714</td>\n",
       "      <td>12.165714</td>\n",
       "      <td>26641980.0</td>\n",
       "      <td>0.0</td>\n",
       "      <td>100.0</td>\n",
       "      <td>66.666667</td>\n",
       "      <td>100.0</td>\n",
       "      <td>0.0</td>\n",
       "    </tr>\n",
       "    <tr>\n",
       "      <th>0</th>\n",
       "      <td>1</td>\n",
       "      <td>20090102</td>\n",
       "      <td>AXP</td>\n",
       "      <td>19.330000</td>\n",
       "      <td>18.570000</td>\n",
       "      <td>19.520000</td>\n",
       "      <td>18.400000</td>\n",
       "      <td>10955620.0</td>\n",
       "      <td>0.0</td>\n",
       "      <td>100.0</td>\n",
       "      <td>66.666667</td>\n",
       "      <td>100.0</td>\n",
       "      <td>0.0</td>\n",
       "    </tr>\n",
       "    <tr>\n",
       "      <th>0</th>\n",
       "      <td>2</td>\n",
       "      <td>20090102</td>\n",
       "      <td>BA</td>\n",
       "      <td>45.250000</td>\n",
       "      <td>42.800000</td>\n",
       "      <td>45.560000</td>\n",
       "      <td>42.780000</td>\n",
       "      <td>7010171.0</td>\n",
       "      <td>0.0</td>\n",
       "      <td>100.0</td>\n",
       "      <td>66.666667</td>\n",
       "      <td>100.0</td>\n",
       "      <td>0.0</td>\n",
       "    </tr>\n",
       "    <tr>\n",
       "      <th>0</th>\n",
       "      <td>3</td>\n",
       "      <td>20090102</td>\n",
       "      <td>CAT</td>\n",
       "      <td>46.910000</td>\n",
       "      <td>44.910000</td>\n",
       "      <td>46.980000</td>\n",
       "      <td>44.710000</td>\n",
       "      <td>7116726.0</td>\n",
       "      <td>0.0</td>\n",
       "      <td>0.0</td>\n",
       "      <td>66.666667</td>\n",
       "      <td>100.0</td>\n",
       "      <td>0.0</td>\n",
       "    </tr>\n",
       "    <tr>\n",
       "      <th>0</th>\n",
       "      <td>4</td>\n",
       "      <td>20090102</td>\n",
       "      <td>CSCO</td>\n",
       "      <td>16.960000</td>\n",
       "      <td>16.410000</td>\n",
       "      <td>17.000000</td>\n",
       "      <td>16.250000</td>\n",
       "      <td>40977480.0</td>\n",
       "      <td>0.0</td>\n",
       "      <td>100.0</td>\n",
       "      <td>66.666667</td>\n",
       "      <td>100.0</td>\n",
       "      <td>0.0</td>\n",
       "    </tr>\n",
       "  </tbody>\n",
       "</table>\n",
       "</div>"
      ]
     },
     "execution_count": 13,
     "metadata": {},
     "output_type": "execute_result"
    }
   ],
   "execution_count": 13
  },
  {
   "metadata": {
    "ExecuteTime": {
     "end_time": "2024-10-12T22:31:01.538585Z",
     "start_time": "2024-10-12T22:31:01.523570Z"
    }
   },
   "cell_type": "code",
   "source": [
    "historical_turbulence = df.iloc[start_date_index:(end_date_index + 1), :]\n",
    "historical_turbulence = historical_turbulence.drop_duplicates(subset=['datadate'])\n",
    "historical_turbulence_mean = np.mean(historical_turbulence.turbulence.values)\n",
    "\n",
    "if historical_turbulence_mean > insample_turbulence_threshold:\n",
    "    # if the mean of the historical data is greater than the 90% quantile of insample turbulence data\n",
    "    # then we assume that the current market is volatile,\n",
    "    # therefore we set the 90% quantile of insample turbulence data as the turbulence threshold\n",
    "    # meaning the current turbulence can't exceed the 90% quantile of insample turbulence data\n",
    "    turbulence_threshold = insample_turbulence_threshold\n",
    "else:\n",
    "    # if the mean of the historical data is less than the 90% quantile of insample turbulence data\n",
    "    # then we tune up the turbulence_threshold, meaning we lower the risk\n",
    "    turbulence_threshold = np.quantile(insample_turbulence.turbulence.values, 1)\n",
    "\n",
    "print(\"historical_turbulence_mean: \", historical_turbulence_mean)\n",
    "print(\"turbulence_threshold: \", turbulence_threshold)"
   ],
   "id": "5686a1b2f99e99c2",
   "outputs": [
    {
     "name": "stdout",
     "output_type": "stream",
     "text": [
      "historical_turbulence_mean:  86.50335037987186\n",
      "turbulence_threshold:  171.09407156310584\n"
     ]
    }
   ],
   "execution_count": 14
  },
  {
   "metadata": {
    "ExecuteTime": {
     "end_time": "2024-10-12T22:31:01.712154Z",
     "start_time": "2024-10-12T22:31:01.598804Z"
    }
   },
   "cell_type": "code",
   "source": "env_train = DummyVecEnv([lambda: StockEnvTrain(train)])",
   "id": "c383254735d5838d",
   "outputs": [],
   "execution_count": 15
  },
  {
   "metadata": {
    "ExecuteTime": {
     "end_time": "2024-10-12T22:31:01.743681Z",
     "start_time": "2024-10-12T22:31:01.715157Z"
    }
   },
   "cell_type": "code",
   "source": [
    "validation = data_split(df, start=unique_trade_date[i - rebalance_window - validation_window],\n",
    "                                end=unique_trade_date[i - rebalance_window])\n",
    "env_val = DummyVecEnv([lambda: StockEnvValidation(validation, turbulence_threshold=turbulence_threshold, iteration=i)])\n",
    "obs_val = env_val.reset()"
   ],
   "id": "e9a4d2f460677a59",
   "outputs": [],
   "execution_count": 16
  },
  {
   "metadata": {
    "ExecuteTime": {
     "end_time": "2024-10-12T22:31:25.466553Z",
     "start_time": "2024-10-12T22:31:01.775726Z"
    }
   },
   "cell_type": "code",
   "source": [
    "print(\"======Model training from: \", 20090000, \"to \", unique_trade_date[i - rebalance_window - validation_window])\n",
    "print(\"======A2C Training========\")\n",
    "model_a2c = train_A2C(env_train, model_name=\"A2C_30k_dow_{}\".format(i), timesteps=30000)"
   ],
   "id": "296865fa44c32492",
   "outputs": [
    {
     "name": "stdout",
     "output_type": "stream",
     "text": [
      "======Model training from:  20090000 to  20151002\n",
      "======A2C Training========\n",
      "Terminal Asset Value: 2192825.1043001395\n",
      "Sharpe Ratio:  0.8003756350899986\n",
      "Terminal Asset Value: 2536769.4516109326\n",
      "Sharpe Ratio:  0.8887743514588239\n",
      "Terminal Asset Value: 2002392.0343921601\n",
      "Sharpe Ratio:  0.6377205892729272\n",
      "Terminal Asset Value: 2209729.4645457105\n",
      "Sharpe Ratio:  0.7918861218140326\n",
      "Terminal Asset Value: 2024192.1328580913\n",
      "Sharpe Ratio:  0.6789549663819399\n",
      "Terminal Asset Value: 1809409.3556987317\n",
      "Sharpe Ratio:  0.5368464930327658\n",
      "Terminal Asset Value: 2032694.5754586123\n",
      "Sharpe Ratio:  0.6125026221370751\n",
      "Terminal Asset Value: 1803298.5639141698\n",
      "Sharpe Ratio:  0.5393808827576971\n",
      "Terminal Asset Value: 2016851.4790737156\n",
      "Sharpe Ratio:  0.6509927288148067\n",
      "Terminal Asset Value: 1803440.6554027998\n",
      "Sharpe Ratio:  0.5433700316762237\n",
      "Terminal Asset Value: 2511614.071808287\n",
      "Sharpe Ratio:  0.7555621487452442\n",
      "Terminal Asset Value: 2554102.608934414\n",
      "Sharpe Ratio:  0.7998708019768572\n",
      "Terminal Asset Value: 2561385.3895269167\n",
      "Sharpe Ratio:  0.829474729739545\n",
      "Terminal Asset Value: 2128834.744806914\n",
      "Sharpe Ratio:  0.7265442255912433\n",
      "Terminal Asset Value: 1839634.8285601605\n",
      "Sharpe Ratio:  0.5960609725483296\n",
      "Terminal Asset Value: 2322895.324935625\n",
      "Sharpe Ratio:  0.7071836040632818\n",
      "Terminal Asset Value: 2183577.3886697264\n",
      "Sharpe Ratio:  0.698772997395639\n",
      "Training time (A2C):  0.3945471405982971  minutes\n"
     ]
    }
   ],
   "execution_count": 17
  },
  {
   "metadata": {
    "ExecuteTime": {
     "end_time": "2024-10-12T22:31:25.575572Z",
     "start_time": "2024-10-12T22:31:25.498699Z"
    }
   },
   "cell_type": "code",
   "source": [
    "print(\"======A2C Validation from: \", unique_trade_date[i - rebalance_window - validation_window], \"to \",\n",
    "      unique_trade_date[i - rebalance_window])\n",
    "\n",
    "DRL_validation(model=model_a2c, test_data=validation, test_env=env_val, test_obs=obs_val)\n",
    "sharpe_a2c = get_validation_sharpe(i)\n",
    "print(\"A2C Sharpe Ratio: \", sharpe_a2c)"
   ],
   "id": "911f137c91440897",
   "outputs": [
    {
     "name": "stdout",
     "output_type": "stream",
     "text": [
      "======A2C Validation from:  20151002 to  20160104\n",
      "Terminal Asset Value: 1003754.6111621729\n",
      "Sharpe Ratio:  0.17691121239550509\n",
      "A2C Sharpe Ratio:  0.022288717720828993\n"
     ]
    }
   ],
   "execution_count": 18
  },
  {
   "metadata": {
    "ExecuteTime": {
     "end_time": "2024-10-12T22:31:25.639032Z",
     "start_time": "2024-10-12T22:31:25.633033Z"
    }
   },
   "cell_type": "code",
   "source": "",
   "id": "af8b491529f07da9",
   "outputs": [],
   "execution_count": null
  }
 ],
 "metadata": {
  "kernelspec": {
   "display_name": "Python 3",
   "language": "python",
   "name": "python3"
  },
  "language_info": {
   "codemirror_mode": {
    "name": "ipython",
    "version": 2
   },
   "file_extension": ".py",
   "mimetype": "text/x-python",
   "name": "python",
   "nbconvert_exporter": "python",
   "pygments_lexer": "ipython2",
   "version": "2.7.6"
  }
 },
 "nbformat": 4,
 "nbformat_minor": 5
}
